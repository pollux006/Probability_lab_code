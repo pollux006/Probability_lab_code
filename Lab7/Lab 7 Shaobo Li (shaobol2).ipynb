{
 "cells": [
  {
   "cell_type": "markdown",
   "metadata": {},
   "source": [
    "# Lab 7: Introduction to Markov chains and random graphs"
   ]
  },
  {
   "cell_type": "markdown",
   "metadata": {},
   "source": [
    "In this lab we will be looking at Markov Processes.  Below is the code to import the modules we will be using throughout this lab."
   ]
  },
  {
   "cell_type": "code",
   "execution_count": 2,
   "metadata": {},
   "outputs": [
    {
     "name": "stdout",
     "output_type": "stream",
     "text": [
      "Modules Imported!\n"
     ]
    }
   ],
   "source": [
    "%matplotlib inline\n",
    "import matplotlib.pyplot as plt\n",
    "import matplotlib.image as img\n",
    "import numpy as np\n",
    "import scipy as sp\n",
    "import scipy.stats as st\n",
    "import pickle as pkl\n",
    "import csv as csv\n",
    "import networkx as nx\n",
    "print \"Modules Imported!\""
   ]
  },
  {
   "cell_type": "markdown",
   "metadata": {},
   "source": [
    "## Introduction to Markov Chains:"
   ]
  },
  {
   "cell_type": "markdown",
   "metadata": {},
   "source": [
    "A Markov chain $(X[t]: t\\geq 0)$ is a sequence of random variables such that the distribution of each variable is determined by the random variable before it.  Equivalently, it is a sequence of states visited by a form of finite state machine with random transitions.  To describe how to generate the chain we specify the initial probability distribution $\\pi_0$ and a one-step transition probability matrix $P$.   We assume there is a finite state space described by {0,1,, . . . , $n-1$} for some $n$.  The intial distribution, $\\pi(0)$, should be a probability vector (nonnegative entries with sum equal to one) of length $n$.   It consists of the probability the process is in a given state at time zero: ${\\pi_i(0)} = P\\{X[0]=i\\}$ for $0\\leq i \\leq n-1.$    The matrix $P$ is an $n\\times n$ matrix such that each row of the matrix is a probability vector.   If the state of the Markov chain at time $t-1$ is $i$ (in other words, if $X[t-1]=i$), then the (conditional) probability distribution of $X[t]$, the state at time $t$, is given by the ith row of $P.$ Additionally, we can look at the individual entries: $p_{ij}=P\\left\\{X[t]=j \\; \\big| \\; X[t-1]=i\\right\\}$.  Below is a class that can be used to create a Markov chain.  An object in this class is created with specified values of $\\pi_0$ and $P$, and can be used to calculate the state distribution at any time or to generate a sample path (i.e. a variate of the sequence of states) of the Markov chain.  \n",
    "\n",
    "The state distributions are determined recursively as follows.  If $$\\pi_i(t)=P\\{X[t]=i\\}$$ then by the law of total probability, $$\\pi_j(t)= P\\{X[t]=j\\}=\\sum_i P\\{X[t-1]=i,X[t]=j\\} =\\sum_i \\pi_i(t-1)p_{i,j}$$  That is, if we view $\\pi(t)$ as a row vector for all $t,$ then $\\pi(t)=\\pi(t-1)P,$  where we have used multiplication of a row vector by a matrix.  (A nice introduction to Markov chains is given on wikipedia.)"
   ]
  },
  {
   "cell_type": "code",
   "execution_count": 11,
   "metadata": {},
   "outputs": [
    {
     "name": "stdout",
     "output_type": "stream",
     "text": [
      "Simulated state sequence\n",
      "[1 1 1 0 0 0 1 1 1 1 0 0 1 1 1 1 1 1 1 1 1 0 0 0 0 0 0 0 0 0 0 0 0 0 0 0 0\n",
      " 0 0 1 0 0 0 0 0 0 0 0 0 1 0 0 0 1 1 1 1 1 1 1 1 1 0 0 0 0 1 1 1 1 1 0 0 0\n",
      " 0 0 0 0 0 0 0 0 0 1 1 1 1 1 1 0 0 1 1 1 1 1 0 0 0 0]\n",
      "Distribution at time 0 : [0.1 0.9]\n",
      "Distribution at time 1 : [0.18 0.82]\n",
      "Distribution at time 2 : [0.244 0.756]\n",
      "Distribution at time 3 : [0.2952 0.7048]\n",
      "Distribution at time 4 : [0.33616 0.66384]\n",
      "Distribution at time 5 : [0.368928 0.631072]\n",
      "Distribution at time 6 : [0.3951424 0.6048576]\n",
      "Distribution at time 7 : [0.41611392 0.58388608]\n",
      "Distribution at time 8 : [0.43289114 0.56710886]\n",
      "Distribution at time 9 : [0.44631291 0.55368709]\n",
      "Distribution at time 10 : [0.45705033 0.54294967]\n",
      "Distribution at time 11 : [0.46564026 0.53435974]\n",
      "Distribution at time 12 : [0.47251221 0.52748779]\n",
      "Distribution at time 13 : [0.47800977 0.52199023]\n",
      "Distribution at time 14 : [0.48240781 0.51759219]\n",
      "Distribution at time 15 : [0.48592625 0.51407375]\n",
      "Distribution at time 16 : [0.488741 0.511259]\n",
      "Distribution at time 17 : [0.4909928 0.5090072]\n",
      "Distribution at time 18 : [0.49279424 0.50720576]\n",
      "Distribution at time 19 : [0.49423539 0.50576461]\n"
     ]
    }
   ],
   "source": [
    "# Markov chain object similar to random variable objects in scipy.stats (st)\n",
    "\n",
    "class Markov_chain:\n",
    "    def __init__(self, P, pi0):   # The transition probability matrix and initial distribution are passed\n",
    "        self.P = P \n",
    "        self.pi0 = pi0\n",
    "        self.n=np.size(pi0)\n",
    "        if np.shape(P) != (self.n,self.n):\n",
    "            print \"Error: Shape of P doesn't match pi0\"\n",
    "   \n",
    "    def rvs(self,T):     # produce a length T segment of variates of the random process\n",
    "        X = [np.random.choice(self.n, p=self.pi0)] \n",
    "        for t in range(1,T):\n",
    "            X.append(np.random.choice(self.n, p=self.P[X[t-1],:]))\n",
    "        return np.array(X)\n",
    "    \n",
    "    def pi(self,t):    # produce probability distribution at time t\n",
    "        pi_new=self.pi0\n",
    "        for s in range(t):\n",
    "            pi_new = np.dot(pi_new, P)    # one step update of probability distribution\n",
    "        return pi_new\n",
    "\n",
    "# An example of how you can use the class to create and run through a simple two state chain\n",
    "P=np.array([[0.9,0.1],[0.1,0.9]])\n",
    "pi0=np.array([0.1,0.9])\n",
    "print 'Simulated state sequence'\n",
    "markov=Markov_chain(P,pi0)  \n",
    "print markov.rvs(100)\n",
    "for t in range(20):\n",
    "    print \"Distribution at time\", t, \":\", markov.pi(t)"
   ]
  },
  {
   "cell_type": "markdown",
   "metadata": {},
   "source": [
    "We won't go into this deeply, but notice how as the distributions change in time, they appear to be converging. For some Markov chains, there exists a limit for the distribution. If this occurs then the limit distribution $\\pi$ satisfies $\\pi = \\pi P$ and $\\pi$ is called an *equilibrium distribution.*\n",
    "\n",
    "<br>**<SPAN style=\"BACKGROUND-COLOR: #C0C0C0\">Problem 1:</SPAN>** Imagine that the states {0, . . . , n-1} of a particular Markov chain are the nodes of a ring graph, with state 0 following state n-1.   Create a Markov_chain object for n=6 with inital state 0 (so x[0]=0 with probability one) with the following transition probabilities:  given X[t-1]=i, X[t] is equal to i with probability 0.8 and to i+1 (modulo n) with probability 0.2.\n",
    "<ol>\n",
    "<li> Print the first 100 states for a simulation of the chain.</li>\n",
    "<li> Simulate the chain for 10,000 time units, and calculate the number of complete revolutions the chain makes around the ring, divided by 10,000.  This is an estimate of the long term cycle rate for the Markov chain.  Repeat the experiment ten times to get an idea of the variation from one experiment to the next.</li>\n",
    "<li> Give an analytical argument for what the long term cycle rate for this Makov chain should be.</li>"
   ]
  },
  {
   "cell_type": "code",
   "execution_count": 24,
   "metadata": {},
   "outputs": [
    {
     "name": "stdout",
     "output_type": "stream",
     "text": [
      "The Distribution at time 0 : [1 0 0 0 0 0]\n",
      "The Distribution at time 1 : [0.8 0.2 0.  0.  0.  0. ]\n",
      "The Distribution at time 2 : [0.64 0.32 0.04 0.   0.   0.  ]\n",
      "The Distribution at time 3 : [0.512 0.384 0.096 0.008 0.    0.   ]\n",
      "The Distribution at time 4 : [0.4096 0.4096 0.1536 0.0256 0.0016 0.    ]\n",
      "The Distribution at time 5 : [3.2768e-01 4.0960e-01 2.0480e-01 5.1200e-02 6.4000e-03 3.2000e-04]\n",
      "The Distribution at time 6 : [0.262208 0.393216 0.24576  0.08192  0.01536  0.001536]\n",
      "The Distribution at time 7 : [0.2100736 0.3670144 0.2752512 0.114688  0.028672  0.0043008]\n",
      "The Distribution at time 8 : [0.16891904 0.33562624 0.29360384 0.14680064 0.0458752  0.00917504]\n",
      "The Distribution at time 9 : [0.13697024 0.3022848  0.30200832 0.17616128 0.06606029 0.01651507]\n",
      "The Distribution at time 10 : [0.11287921 0.26922189 0.30206362 0.20133069 0.08808049 0.02642412]\n",
      "The Distribution at time 11 : [0.09558819 0.23795335 0.29549527 0.22147727 0.11073053 0.03875539]\n",
      "The Distribution at time 12 : [0.08422163 0.20948032 0.28398689 0.23628087 0.13287988 0.05315042]\n",
      "The Distribution at time 13 : [0.07800739 0.18442858 0.26908557 0.24582208 0.15356008 0.06909631]\n",
      "The Distribution at time 14 : [0.07622517 0.16314434 0.25215417 0.25047478 0.17201248 0.08598906]\n",
      "The Distribution at time 15 : [0.07817795 0.14576051 0.23435221 0.25081066 0.18770494 0.10319374]\n",
      "The Distribution at time 16 : [0.08318111 0.132244   0.21663387 0.24751897 0.20032608 0.12009598]\n",
      "The Distribution at time 17 : [0.09056408 0.12243142 0.19975589 0.24134195 0.20976466 0.136142  ]\n",
      "The Distribution at time 18 : [0.09967967 0.11605795 0.184291   0.23302474 0.21608011 0.15086653]\n",
      "The Distribution at time 19 : [0.10991704 0.11278229 0.17064439 0.22327799 0.21946904 0.16390925]\n",
      "The Distribution at time 20 : [0.12071548 0.11220924 0.15907197 0.21275127 0.22023083 0.17502121]\n",
      "The Distribution at time 21 : [0.13157663 0.11391049 0.14969942 0.20201541 0.21873492 0.18406313]\n",
      "The Distribution at time 22 : [0.14207393 0.11744372 0.14254164 0.19155221 0.21539102 0.19099749]\n",
      "The Distribution at time 23 : [0.15185864 0.12236976 0.13752205 0.1817501  0.21062325 0.19587619]\n",
      "The Distribution at time 24 : [0.16066215 0.12826754 0.1344916  0.17290449 0.20484862 0.19882561]\n",
      "The Distribution at time 25 : [0.16829484 0.13474646 0.13324678 0.16522191 0.1984598  0.20003021]\n",
      "The Distribution at time 26 : [0.17464192 0.14145614 0.13354672 0.15882688 0.19181222 0.19971613]\n",
      "The Distribution at time 27 : [0.17965676 0.14809329 0.1351286  0.15377085 0.18521515 0.19813535]\n",
      "The Distribution at time 28 : [0.18335248 0.15440598 0.13772154 0.1500424  0.17892629 0.19555131]\n",
      "The Distribution at time 29 : [0.18579224 0.16019528 0.14105843 0.14757823 0.17314951 0.1922263 ]\n",
      "The Distribution at time 30 : [0.18707905 0.16531467 0.1448858  0.14627427 0.16803526 0.18841095]\n",
      "The Distribution at time 31 : [0.18734543 0.16966755 0.14897157 0.14599658 0.16368306 0.18433581]\n",
      "The Distribution at time 32 : [0.18674351 0.17320313 0.15311077 0.14659158 0.16014576 0.18020526]\n",
      "The Distribution at time 33 : [0.18543586 0.1759112  0.15712924 0.14789541 0.15743493 0.17619336]\n",
      "The Distribution at time 34 : [0.18358736 0.17781613 0.16088563 0.14974218 0.15552702 0.17244167]\n",
      "The Distribution at time 35 : [0.18135822 0.17897038 0.16427173 0.15197087 0.15437005 0.16905874]\n",
      "The Distribution at time 36 : [0.17889833 0.17944795 0.16721146 0.15443104 0.15389022 0.166121  ]\n",
      "The Distribution at time 37 : [0.17634286 0.17933802 0.16965876 0.15698713 0.15399838 0.16367485]\n",
      "The Distribution at time 38 : [0.17380926 0.17873899 0.17159461 0.15952145 0.15459613 0.16173955]\n",
      "The Distribution at time 39 : [0.17139532 0.17775304 0.17302349 0.16193609 0.1555812  0.16031087]\n",
      "The Distribution at time 40 : [0.16917843 0.1764815  0.1739694  0.16415357 0.15685217 0.15936493]\n",
      "The Distribution at time 41 : [0.16721573 0.17502088 0.17447182 0.16611673 0.15831245 0.15886238]\n",
      "The Distribution at time 42 : [0.16554506 0.17345985 0.17458163 0.16778775 0.15987331 0.1587524 ]\n",
      "The Distribution at time 43 : [0.16418653 0.17187689 0.17435728 0.16914653 0.1614562  0.15897658]\n",
      "The Distribution at time 44 : [0.16314454 0.17033882 0.1738612  0.17018868 0.16299426 0.1594725 ]\n",
      "The Distribution at time 45 : [0.16241013 0.16889996 0.17315672 0.17092318 0.16443315 0.16017685]\n",
      "The Distribution at time 46 : [0.16196348 0.167602   0.17230537 0.17136989 0.16573115 0.16102811]\n",
      "The Distribution at time 47 : [0.1617764  0.16647429 0.1713647  0.17155699 0.1668589  0.16196872]\n",
      "The Distribution at time 48 : [0.16181487 0.16553472 0.17038662 0.17151853 0.16779852 0.16294676]\n",
      "The Distribution at time 49 : [0.16204124 0.16479075 0.16941624 0.17129215 0.16854252 0.16391711]\n",
      "The Distribution at time 50 : [0.16241642 0.16424085 0.16849114 0.17091696 0.16909244 0.16484219]\n",
      "The Distribution at time 51 : [0.16290157 0.16387596 0.16764108 0.1704318  0.16945735 0.16569224]\n",
      "The Distribution at time 52 : [0.16345971 0.16368108 0.16688806 0.16987366 0.16965224 0.16644526]\n",
      "The Distribution at time 53 : [0.16405682 0.16363681 0.16624666 0.16927654 0.16969652 0.16708666]\n",
      "The Distribution at time 54 : [0.16466279 0.16372081 0.16572469 0.16867056 0.16961252 0.16760863]\n",
      "The Distribution at time 55 : [0.16525195 0.1639092  0.16532391 0.16808139 0.16942413 0.16800941]\n",
      "The Distribution at time 56 : [0.16580345 0.16417775 0.16504097 0.16752989 0.16915558 0.16829235]\n",
      "The Distribution at time 57 : [0.16630123 0.16450289 0.16486833 0.16703211 0.16883044 0.168465  ]\n",
      "The Distribution at time 58 : [0.16673398 0.16486256 0.16479524 0.16659935 0.16847078 0.16853809]\n",
      "The Distribution at time 59 : [0.1670948  0.16523684 0.1648087  0.16623853 0.16809649 0.16852463]\n",
      "The Distribution at time 60 : [0.16738077 0.16560844 0.16489433 0.16595256 0.1677249  0.168439  ]\n",
      "The Distribution at time 61 : [0.16759241 0.1659629  0.16503715 0.16574092 0.16737043 0.16829618]\n",
      "The Distribution at time 62 : [0.16773317 0.1662888  0.1652223  0.16560017 0.16704453 0.16811103]\n",
      "The Distribution at time 63 : [0.16780874 0.16657768 0.1654356  0.16552459 0.16675566 0.16789773]\n",
      "The Distribution at time 64 : [0.16782654 0.16682389 0.16566402 0.16550679 0.16650944 0.16766932]\n",
      "The Distribution at time 65 : [0.16779509 0.16702442 0.16589599 0.16553824 0.16630891 0.16743734]\n",
      "The Distribution at time 66 : [0.16772354 0.16717855 0.16612168 0.16560979 0.16615478 0.16721166]\n",
      "The Distribution at time 67 : [0.16762117 0.16728755 0.16633305 0.16571217 0.16604578 0.16700028]\n",
      "The Distribution at time 68 : [0.16749699 0.16735427 0.16652395 0.16583634 0.16597906 0.16680938]\n",
      "The Distribution at time 69 : [0.16735947 0.16738282 0.16669002 0.16597387 0.16595052 0.16664332]\n",
      "The Distribution at time 70 : [0.16721624 0.16737815 0.16682858 0.1661171  0.16595519 0.16650476]\n",
      "The Distribution at time 71 : [0.16707394 0.16734577 0.16693849 0.16625939 0.16598757 0.16639484]\n",
      "The Distribution at time 72 : [0.16693812 0.1672914  0.16701995 0.16639521 0.16604193 0.16631339]\n",
      "The Distribution at time 73 : [0.16681317 0.16722074 0.16707424 0.16652016 0.16611259 0.1662591 ]\n",
      "The Distribution at time 74 : [0.16670236 0.16713923 0.16710354 0.16663097 0.1661941  0.16622979]\n",
      "The Distribution at time 75 : [0.16660785 0.16705186 0.16711068 0.16672549 0.16628148 0.16622266]\n",
      "The Distribution at time 76 : [0.16653081 0.16696305 0.16709891 0.16680253 0.16637028 0.16623442]\n",
      "The Distribution at time 77 : [0.16647153 0.1668766  0.16707174 0.1668618  0.16645673 0.16626159]\n",
      "The Distribution at time 78 : [0.16642954 0.16679559 0.16703271 0.16690379 0.16653774 0.16630062]\n",
      "The Distribution at time 79 : [0.16640376 0.16672238 0.16698529 0.16692958 0.16661095 0.16634804]\n",
      "The Distribution at time 80 : [0.16639262 0.16665866 0.16693271 0.16694072 0.16667468 0.16640063]\n",
      "The Distribution at time 81 : [0.16639422 0.16660545 0.1668779  0.16693912 0.16672789 0.16645544]\n",
      "The Distribution at time 82 : [0.16640646 0.1665632  0.16682341 0.16692687 0.16677013 0.16650993]\n",
      "The Distribution at time 83 : [0.16642715 0.16653185 0.16677137 0.16690618 0.16680148 0.16656197]\n",
      "The Distribution at time 84 : [0.16645412 0.16651091 0.16672346 0.16687922 0.16682242 0.16660987]\n",
      "The Distribution at time 85 : [0.16648527 0.16649955 0.16668095 0.16684807 0.16683378 0.16665238]\n",
      "The Distribution at time 86 : [0.16651869 0.1664967  0.16664467 0.16681464 0.16683664 0.16668866]\n",
      "The Distribution at time 87 : [0.16655268 0.1665011  0.16661508 0.16678065 0.16683224 0.16671825]\n",
      "The Distribution at time 88 : [0.1665858  0.16651141 0.16659228 0.16674754 0.16682192 0.16674105]\n",
      "The Distribution at time 89 : [0.16661685 0.16652629 0.16657611 0.16671648 0.16680704 0.16675723]\n",
      "The Distribution at time 90 : [0.16664492 0.1665444  0.16656614 0.16668841 0.16678893 0.16676719]\n",
      "The Distribution at time 91 : [0.16666938 0.16656451 0.1665618  0.16666396 0.16676883 0.16677154]\n",
      "The Distribution at time 92 : [0.16668981 0.16658548 0.16656234 0.16664352 0.16674785 0.166771  ]\n",
      "The Distribution at time 93 : [0.16670605 0.16660635 0.16656697 0.16662729 0.16672699 0.16676637]\n",
      "The Distribution at time 94 : [0.16671811 0.16662629 0.16657484 0.16661522 0.16670705 0.16675849]\n",
      "The Distribution at time 95 : [0.16672619 0.16664465 0.16658513 0.16660715 0.16668868 0.1667482 ]\n",
      "The Distribution at time 96 : [0.16673059 0.16666096 0.16659704 0.16660274 0.16667238 0.1667363 ]\n",
      "The Distribution at time 97 : [0.16673173 0.16667488 0.16660982 0.1666016  0.16665845 0.16672351]\n",
      "The Distribution at time 98 : [0.16673009 0.16668625 0.16662283 0.16660325 0.16664708 0.1667105 ]\n",
      "The Distribution at time 99 : [0.16672617 0.16669502 0.16663552 0.16660716 0.16663831 0.16669782]\n"
     ]
    },
    {
     "name": "stdout",
     "output_type": "stream",
     "text": [
      "the loop rate of the 0 th test is : 0.171\n",
      "the loop rate of the 1 th test is : 0.1619\n",
      "the loop rate of the 2 th test is : 0.1752\n",
      "the loop rate of the 3 th test is : 0.1663\n",
      "the loop rate of the 4 th test is : 0.1682\n",
      "the loop rate of the 5 th test is : 0.1576\n",
      "the loop rate of the 6 th test is : 0.1774\n",
      "the loop rate of the 7 th test is : 0.1664\n",
      "the loop rate of the 8 th test is : 0.1742\n",
      "the loop rate of the 9 th test is : 0.1618\n"
     ]
    }
   ],
   "source": [
    "# 1 \n",
    "# create the chainbcr\n",
    "\n",
    "# init state is 0 (probability of 1)\n",
    "pi0 = np.array([1,0,0,0,0,0])\n",
    "# 0.8 at i and 0.2 at i = 1\n",
    "P = np.array([[0.8,0.2,0,0,0,0],[0,0.8,0.2,0,0,0],[0,0,0.8,0.2,0,0],[0,0,0,0.8,0.2,0],[0,0,0,0,0.8,0.2],[0.2,0,0,0,0,0.8]])\n",
    "# create markov chain\n",
    "markov = Markov_chain(P,pi0)\n",
    "# print first 100 states \n",
    "for t in range(100):\n",
    "    print \"The Distribution at time\", t,\":\",markov.pi(t)\n",
    "\n",
    "# 2\n",
    "# create a loop of 10000 times, repeat it ten times\n",
    "for k in range(10):\n",
    "    time = 10000\n",
    "    test = markov.rvs(time)\n",
    "    # init number of 0s\n",
    "    num = 0\n",
    "    # find the 0s in the result to calculate the complete \n",
    "    for i in test:\n",
    "        if i == 0:\n",
    "            num = num + 1\n",
    "    # the first zero is not a loop\n",
    "    num = num - 1\n",
    "    print \"the loop rate of the\",k,\"th test is :\",1.*num/time\n",
    "    \n",
    "# 3 \n",
    "# down below\n",
    "    "
   ]
  },
  {
   "cell_type": "markdown",
   "metadata": {},
   "source": [
    "__Answer:__ \n",
    "        The distribution of probability will converge to 1/6 when test time becomes larger. So the total distribution will be similar as a \n",
    "        uniform distribution. And the expected number of loops can be determind by the binomial distribution. Which is n * p , and the\n",
    "        rate will nearly equal to p.\n",
    "        "
   ]
  },
  {
   "cell_type": "markdown",
   "metadata": {},
   "source": [
    "**<SPAN style=\"BACKGROUND-COLOR: #C0C0C0\">End of Problem 1</SPAN>**"
   ]
  },
  {
   "cell_type": "markdown",
   "metadata": {},
   "source": [
    "## Markov Gibberish"
   ]
  },
  {
   "cell_type": "markdown",
   "metadata": {},
   "source": [
    "Let's look at some applications of a Markov Chain. When I was younger I remember using AIM (instant messenger) to talk to my friends. At some point people started to create bots which could hold conversations with users. Of course we had fun trying to get them to say things that didn't make sense, but the idea that it could generate somewhat relevant conversations was pretty cool. We're going to build a rudimentary version of that here. The code below generates text based on a large sample text, such that each word is generated based on the two words just before it.  The generated sequence of words is given by a 2-Markov chain (here \"2\" means that the distribution of the value of each word is determined by the two previous words, instead of just the one previous word).  That means that any three consecutive words in the generated text are also consecutive words somewhere in the sample text.   If words w1 w2 were the last two words added to the generated text string, then to generate the next word we look for all occurrences of w1 w2 as consecutive words in the sample text, and see what word was just after them for each occurrence.   The randomly generated text selects the next word to match one of those occurrences, selected at random with equal probability."
   ]
  },
  {
   "cell_type": "code",
   "execution_count": 49,
   "metadata": {},
   "outputs": [
    {
     "data": {
      "text/plain": [
       "'my reproving eye he might possibly become a sort of thing. Certainly she had had to get like that, of course, you know, has been a perfect knight-errant to a reduction for quantity, sir. The animal is no doubt in time the mere mention of pictures didn\\'t give me anything I ask for details. Women with hair and chins like Mary\\'s may be going back, or she\\'ll get on to the fact is New York to disentangle my Cousin Gussie from the Casino gardens. I\\'ve lost my hat.\" I dived for the season, but a woman says \"Oh!\" like that, Jeeves? I'"
      ]
     },
     "execution_count": 49,
     "metadata": {},
     "output_type": "execute_result"
    }
   ],
   "source": [
    "# Based on http://agiliq.com/blog/2009/06/generating-pseudo-random-text-with-markov-chains-u/    --BH\n",
    "# Next word of random string is selected from possible word that follow the last two words.\n",
    "\n",
    "\n",
    "class Markov_text:\n",
    "    def __init__(self, open_file):   # The single parameter passed is a file handle\n",
    "        self.cache = {}  # Will be dictionary mapping a key (two consecutive words) to possible next word\n",
    "        self.open_file = open_file\n",
    "        self.words = self.file_to_words()  # Read the words from the file into array self.words\n",
    "        self.word_size = len(self.words)\n",
    "        self.database()   # Fill in the dictionary\n",
    "       \n",
    "       \n",
    "    def file_to_words(self):\n",
    "        self.open_file.seek(0)\n",
    "        data = self.open_file.read()\n",
    "        words = data.split()\n",
    "        return words\n",
    "           \n",
    "       \n",
    "    def triples(self):\n",
    "    #Generates triples from the given data string. So if our string were\n",
    "    # \"What a lovely day\", we'd generate (What, a, lovely) and then (a, lovely, day).\"\"\"\n",
    "           \n",
    "        if self.word_size < 3:\n",
    "            return\n",
    "         \n",
    "        for i in range(self.word_size - 2):\n",
    "            yield (self.words[i], self.words[i+1], self.words[i+2])    #Like return but returns a generator to be used once\n",
    "               \n",
    "    def database(self):\n",
    "        for w1, w2, w3 in self.triples():\n",
    "            key = (w1, w2)\n",
    "            if key in self.cache:\n",
    "                self.cache[key].append(w3)\n",
    "            else:\n",
    "                self.cache[key] = [w3]\n",
    "                         \n",
    "    def generate_markov_text(self, size=100):\n",
    "        seed = np.random.randint(0, self.word_size-3)\n",
    "        w1, w2 = self.words[seed], self.words[seed+1]  # Initial key is (w1,w2)\n",
    "        gen_words = [w1,w2]\n",
    "        for i in xrange(size):\n",
    "            w1, w2 = w2, np.random.choice(self.cache[(w1, w2)])\n",
    "            gen_words.append(w2)\n",
    "        return ' '.join(gen_words)\n",
    "    \n",
    "\n",
    "                \n",
    "        \n",
    "        \n",
    "file_ = open('Jeeves.txt')\n",
    "markov = Markov_text(file_)   # Creates the object markov using the file\n",
    "markov.generate_markov_text()   # Generate random text\n",
    "\n",
    "# The above has a slight bug.   It is possible for the key to be the\n",
    "# last two words in the text file and have no entry in the dictionary.\n",
    "# This won't happen if the last two words in the text file appear\n",
    "# consecutively somewhere else in the file.   -BH"
   ]
  },
  {
   "cell_type": "markdown",
   "metadata": {},
   "source": [
    "With punctuation and everything, this initially looks like a bit of a mess. However, the sentences themselves are coming together and can make a little bit of sense. It is a very primitive version of those bots on instant messaging.\n",
    "\n",
    "<br>**<SPAN style=\"BACKGROUND-COLOR: #C0C0C0\">Problem 2:</SPAN>** Using the class above, do the following:\n",
    "<ol><li> Find your own text file or copy and paste from somewhere and use the text to create gibberish from that. To work well, your file really needs to contain a large amount of text. The \"Jeeves\" file was pulled from a short story. Print out your own 100 word gibberish paragraph based on the text file you used.</li>\n",
    "<li> Rewrite the code to create a 1-Markov Chain of the words instead of the 2-Markov Chain given above. Print out your own 100 word gibberish paragraph from this.</li>\n",
    "<li> Rewrite the code to create a 3-Markov Chain of the words instead of the 2-Markov Chain given above. Print out your own 100 word gibberish paragraph from this.</li>\n",
    "<li> Comment on the qualitative differences of your paragraphs using these methods.</li>"
   ]
  },
  {
   "cell_type": "code",
   "execution_count": 71,
   "metadata": {},
   "outputs": [
    {
     "name": "stdout",
     "output_type": "stream",
     "text": [
      "text of 2 markov:\n",
      "king, from a colleague from down the tunnel: they carry four-bladed arrowhead shapes that point was plagued by an agency studying options for nationalizing coal and steam smells, the metal spaces, among the three ever lined up that way—sitting, squatting, passing through? Eventually Jack and Malcolm both got murdered. Slothrop's fate is not so much the changes she felt as unmistakably as the legs of a tattered Italian glove . . Pavlov showed how carbon atoms could link up, one to another, the chances for public terror no one in 1936, during his excursion with Scorpia Mossmoon, living in the brown ellipse\n",
      "\n",
      "text of 1 markov:\n",
      "worry. About 50, bleak comradely looks down, and crystals, making on blocks of little farther than Beria's top of the Rocket. Stored in the wound through his Ike and taxes, of her rides. She looks forward watchtower: look into the 21st century. The savages of rifles, around doing this? \"His name and barometers were the act that he couldn't enjoy it has recognized him. Thanatz and then, for coffee, croissants, and make no point in her to find the cortex translates into visual mercy. How much to junk and orange sweet, Play-in' tunes-with, a better than you don't know. I meant\n",
      "\n",
      "text of 3 markov:\n",
      "did you feel when boys ran by snatching each other's caps and too busy for this.\" \"Oh, and I'm some kind of radio research project. They had written for a while, depending how much each one happens to care—Myrtle displaying generous expanses of nifty gam, and Maximilian leering up beneath the fast-talking young tomato's skirts, drawing bewildered giggles from adolescent Marcel, who may be a little exercised. But he's a realist. Your friend Greta and I knew him in Warsaw, in the old weathered rocker looking out at the misted sea, the horizon mantled in gray, palms gleaming in the Void. Silver and\n"
     ]
    }
   ],
   "source": [
    "# 1 \n",
    "# first create a file filled with worlds.\n",
    "file_ = open('Rainbow.txt')\n",
    "# then create the Markov chain and output a 100 words text\n",
    "markov = Markov_text(file_)\n",
    "print \"text of 2 markov:\"\n",
    "print markov.generate_markov_text()\n",
    "\n",
    "\n",
    "# 2\n",
    "# rewrite the code above to create 1-Markov\n",
    "class Markov_text1(Markov_text):\n",
    "             \n",
    "    # rewrite other methods   \n",
    "    def triples(self):\n",
    "        if self.word_size < 2:\n",
    "            return\n",
    "        for i in range(self.word_size - 1):\n",
    "            yield (self.words[i], self.words[i+1])\n",
    "               \n",
    "    def database(self):\n",
    "        for w1, w2 in self.triples():\n",
    "            key = (w1)\n",
    "            if key in self.cache:\n",
    "                self.cache[key].append(w2)\n",
    "            else:\n",
    "                self.cache[key] = [w2]\n",
    "                         \n",
    "    def generate_markov_text(self, size=100):\n",
    "        seed = np.random.randint(0, self.word_size-2)\n",
    "        w1 = self.words[seed]  \n",
    "        gen_words = [w1]\n",
    "        for i in xrange(size):\n",
    "            w1 = np.random.choice(self.cache[(w1)])\n",
    "            gen_words.append(w1)\n",
    "        return ' '.join(gen_words)\n",
    "\n",
    "\n",
    "# now print the 100 words with 1-Markov\n",
    "markov1 = Markov_text1(file_)\n",
    "print \n",
    "print \"text of 1 markov:\"\n",
    "print markov1.generate_markov_text()\n",
    "\n",
    "\n",
    "\n",
    "\n",
    "# 3\n",
    "# now we rewrite this to a 3-Markov text\n",
    "class Markov_text3(Markov_text):\n",
    "             \n",
    "    # rewrite other methods   \n",
    "    def triples(self):\n",
    "        if self.word_size < 4:\n",
    "            return\n",
    "        for i in range(self.word_size - 3):\n",
    "            yield (self.words[i], self.words[i+1], self.words[i+2],self.words[i+3])\n",
    "               \n",
    "    def database(self):\n",
    "        for w1, w2, w3, w4 in self.triples():\n",
    "            key = (w1, w2, w3)\n",
    "            if key in self.cache:\n",
    "                self.cache[key].append(w4)\n",
    "            else:\n",
    "                self.cache[key] = [w4]\n",
    "                         \n",
    "    def generate_markov_text(self, size=100):\n",
    "        seed = np.random.randint(0, self.word_size-4)\n",
    "        w1,w2,w3 = self.words[seed],self.words[seed+1],self.words[seed+2] \n",
    "        gen_words = [w1,w2,w3]\n",
    "        for i in xrange(size):\n",
    "            w1,w2,w3 = w2,w3,np.random.choice(self.cache[(w1,w2,w3)])\n",
    "            gen_words.append(w3)\n",
    "        return ' '.join(gen_words)\n",
    "\n",
    "    \n",
    "# now print the 100 words with 3-Markov\n",
    "markov3 = Markov_text3(file_)\n",
    "print \n",
    "print \"text of 3 markov:\"\n",
    "print markov3.generate_markov_text()\n"
   ]
  },
  {
   "cell_type": "markdown",
   "metadata": {},
   "source": [
    "__Answer:__ \n",
    "        The text generated by the 1-Markov has the lowest quality, and its hard to get a really clear sentence from it. The text of 2-Markov looks better, and some sentence even makes sense. The text generated by the 3-Markov looks the best, you can really see some sentences in it."
   ]
  },
  {
   "cell_type": "markdown",
   "metadata": {},
   "source": [
    "**<SPAN style=\"BACKGROUND-COLOR: #C0C0C0\">End of Problem 2</SPAN>**"
   ]
  },
  {
   "cell_type": "markdown",
   "metadata": {},
   "source": [
    "## Random Graphs and Working with Graphs"
   ]
  },
  {
   "cell_type": "markdown",
   "metadata": {},
   "source": [
    "Markov chains that are time independent and finite can be represented really well by graphs. I'm sure you've used finite state machines to describe processes or sequences in some of your other classes. They can also be useful in analyzing or describing networks. Networkx is an extensive Python package for generating and analyzing graphs (the kind with nodes and edges) and can also plot them.  The following code adapted from the networkx webpage generates a random undirected graph by placing nodes at random locations within the unit square and connecting nodes together if their distance is less than a specified threshold."
   ]
  },
  {
   "cell_type": "code",
   "execution_count": 113,
   "metadata": {},
   "outputs": [
    {
     "name": "stdout",
     "output_type": "stream",
     "text": [
      "The center node is located at: 0.505894618509 , 0.495452228581\n",
      "The graph is not connected\n"
     ]
    },
    {
     "data": {
      "image/png": "[encoded data removed]",
      "text/plain": [
       "<Figure size 576x576 with 1 Axes>"
      ]
     },
     "metadata": {
      "needs_background": "light"
     },
     "output_type": "display_data"
    }
   ],
   "source": [
    "#import networkx as nx\n",
    "\n",
    "d=0.16 # distance threshold, pairs of nodes within distance d are connected by an edge\n",
    "G=nx.random_geometric_graph(100,d)  #100 nodes in unit square, distance threshold d\n",
    "# position is stored as node attribute data for random_geometric_graph\n",
    "pos=nx.get_node_attributes(G,'pos')  # pos is a dictionary, with the indices as keys, ranging from 0 to 99\n",
    "\n",
    "# find node nearest to (0.5,0.5), called the center node\n",
    "dmin=1\n",
    "ncenter=0\n",
    "for n in pos:\n",
    "    x,y=pos[n]\n",
    "    d=(x-0.5)**2+(y-0.5)**2\n",
    "    if d<dmin:\n",
    "        ncenter=n\n",
    "        dmin=d\n",
    "\n",
    "print 'The center node is located at:', pos[ncenter][0], ',', pos[ncenter][1]\n",
    "# color by path length from node near center\n",
    "p=nx.single_source_shortest_path_length(G,ncenter)  #p is dictionary: keys are nodes, values are distances to center\n",
    "                                                    #Node not connected to the center node are not listed in p.\n",
    "                                                    # p include the center node itself.\n",
    "\n",
    "if nx.is_connected(G):   # The Networkx method is_connected checks for connectness\n",
    "    print \"The graph is connected\"\n",
    "else: print \"The graph is not connected\"\n",
    "\n",
    "plt.figure(figsize=(8,8))\n",
    "# nx.draw_networkx_edges(G,pos,nodelist=[ncenter],alpha=0.4)  #All edges are drwn\n",
    "nx.draw_networkx_edges(G,pos,alpha=0.4)  #All edges are drwn\n",
    "nx.draw_networkx_nodes(G,pos,alpha=0.3,node_size=80)  #All nodes are drawn but nearly transparent\n",
    "nx.draw_networkx_nodes(G,pos,nodelist=p.keys(),   # Nodes connected to center node are drawn, closer nodes have darker color\n",
    "                       node_size=80,\n",
    "                       node_color=p.values(),\n",
    "                       cmap=plt.cm.Reds_r)\n",
    "\n",
    "plt.xlim(-0.05,1.05)\n",
    "plt.ylim(-0.05,1.05)\n",
    "plt.axis('off')\n",
    "plt.savefig('random_geometric_graph.png')\n",
    "plt.show()"
   ]
  },
  {
   "cell_type": "markdown",
   "metadata": {},
   "source": [
    "Excellent documentation for NetworkX is available online (search for NetworkX documentation). We find a plethora of classes for generating both undirected graphs (no arrows on the edges) and directed graphs.   Run the code in the above cell a few dozen times, and see how often the graph generated is *connected*, meaning that there is a path through the graph from any node to any other node.   One way a graph could be not connnected is to have an isolated node, which is a node with no neighbors.   Also, try changing the value of the threshold d and seeing the effect on connectivity.\n",
    "\n",
    "<br>**<SPAN style=\"BACKGROUND-COLOR: #C0C0C0\">Problem 3:</SPAN>**   Estimate the probability of connectivity for the above model (100 nodes at random locations in unit square with edges between pairs of nodes at distance d or smaller) for values of d in 0.10, 0.11, . . . , 0.20 by generating 1000 instances for each d and seeing the fraction of them that are connected. Is there a sort of threshold where the odds of a connected graph jumps significantly?"
   ]
  },
  {
   "cell_type": "code",
   "execution_count": 117,
   "metadata": {},
   "outputs": [
    {
     "name": "stdout",
     "output_type": "stream",
     "text": [
      "the probability of conectivity of d equals to 0.1 is: 0.0\n",
      "the probability of conectivity of d equals to 0.11 is: 0.0\n",
      "the probability of conectivity of d equals to 0.12 is: 0.0\n",
      "the probability of conectivity of d equals to 0.13 is: 0.016\n",
      "the probability of conectivity of d equals to 0.14 is: 0.109\n",
      "the probability of conectivity of d equals to 0.15 is: 0.276\n",
      "the probability of conectivity of d equals to 0.16 is: 0.5\n",
      "the probability of conectivity of d equals to 0.17 is: 0.663\n",
      "the probability of conectivity of d equals to 0.18 is: 0.806\n",
      "the probability of conectivity of d equals to 0.19 is: 0.882\n",
      "the probability of conectivity of d equals to 0.2 is: 0.923\n"
     ]
    }
   ],
   "source": [
    "# we can have a test time of a large number to get the estimate probability of conectivity\n",
    "d = [0.1,0.11,0.12,0.13,0.14,0.15,0.16,0.17,0.18,0.19,0.20]\n",
    "testtime = 1000\n",
    "\n",
    "\n",
    "for i in d:\n",
    "    # init connecttimes for each d\n",
    "    ctimes = 0\n",
    "    # test for 1000 times\n",
    "    for k in range(testtime):\n",
    "        G = nx.random_geometric_graph(100,i)\n",
    "        if nx.is_connected(G):\n",
    "            ctimes = ctimes + 1\n",
    "    # now calculate the prob and print the result\n",
    "    print \"the probability of conectivity of d equals to\",i,\"is:\",1.*ctimes/testtime\n",
    "    "
   ]
  },
  {
   "cell_type": "markdown",
   "metadata": {},
   "source": [
    "__Answer:__ \n",
    "        \n",
    "        From about 0.14 to 0.15, the connectivity jumps significantly."
   ]
  },
  {
   "cell_type": "markdown",
   "metadata": {},
   "source": [
    "**<SPAN style=\"BACKGROUND-COLOR: #C0C0C0\">End of Problem 3</SPAN>**"
   ]
  },
  {
   "cell_type": "markdown",
   "metadata": {},
   "source": [
    "The probability of connectivity can be approximately computed analytically as follows.  You might have noticed in the simulations that the main cause of disconnectivity is having at least one isolated node (no neighbors).\n",
    "\n",
    "<br>**<SPAN style=\"BACKGROUND-COLOR: #C0C0C0\">Problem 4:</SPAN>**   Consider the same model.  Imagine that 100 nodes, numbered from 1 to 100, are independently placed in the unit square with a uniform distribution for each node, and then edges are placed between pairs of nodes at distance d or smaller.  Except for the second half of the fourth part below, your answers should be an expression involving $d.$   No computation is required.\n",
    "<ol><li> Focus on node 1. Suppose for simplicity it is not near the boundary of the square, so the entire disk of radius $d$ around the node is in the square.   What is the probability that a given other node (say, node 2) is *not* within distance $d$ of node 1?\n",
    "<li>  What is the probability node 1 is isolated (i.e. *none* of the other nodes is within distance $d$ of node 1)?\n",
    "<li>  What is the expected number of isolated nodes?\n",
    "<li>  Assume (this is a reasonable approximation) the total number of isolated nodes has the Poisson distribution with mean given by the answer to the previous problem part.   What is the probability that there are no isolated nodes?\n",
    "Compute the numerical values for  d in 0.10, 0.11, . . . , 0.20 and compare to the estimated probability the\n",
    "graph is connected in Problem 3. </ol>"
   ]
  },
  {
   "cell_type": "markdown",
   "metadata": {
    "collapsed": true
   },
   "source": [
    "__Answer:__ \n",
    "    \n",
    "    1.we can say that the nodes falls on the square uniformly, so the probability of the node falling into a place is connected to the area of it. so the P = (area of square)/(area of a disk of radius d) = (1-πd^2)/1\n",
    "    2.The probability should be p^99 = ((1-πd^2)/1)^99\n",
    "    3.Expected value should be n*p, which is 100*(((1-πd^2)/1)^99)\n",
    "    4.The probabily is much larger, since the prob estimated in problem is the connectivity of the whole graph instead of a single point. So the probability here is much larger, since it is rare to have a point not connecting to anyother points in the graph when d increases."
   ]
  },
  {
   "cell_type": "code",
   "execution_count": 118,
   "metadata": {},
   "outputs": [
    {
     "name": "stdout",
     "output_type": "stream",
     "text": [
      "calculate expected value of d equals 0.1 is: 0.07535917785167419\n",
      "calculate expected value of d equals 0.11 is: 0.3653130314116695\n",
      "calculate expected value of d equals 0.12 is: 0.7275584419642076\n",
      "calculate expected value of d equals 0.13 is: 0.9241983010174215\n",
      "calculate expected value of d equals 0.14 is: 0.9848339496062906\n",
      "calculate expected value of d equals 0.15 is: 0.9976296685024217\n",
      "calculate expected value of d equals 0.16 is: 0.9996965662209507\n",
      "calculate expected value of d equals 0.17 is: 0.9999674949670492\n",
      "calculate expected value of d equals 0.18 is: 0.9999970669515098\n",
      "calculate expected value of d equals 0.19 is: 0.9999997772838055\n",
      "calculate expected value of d equals 0.2 is: 0.9999999858334031\n"
     ]
    }
   ],
   "source": [
    "import math\n",
    "# 4\n",
    "# we can first define a functions to calculate expected value in 3 \n",
    "def exp(d):\n",
    "    return 100*(((1-math.pi*(d**2)/1)**99))\n",
    "\n",
    "for i in d:\n",
    "    # obtain the cdf of poisson distribution at k = 1\n",
    "\n",
    "    dis = st.poisson.cdf(1,exp(i))\n",
    "    print \"calculate expected value of d equals\",i,\"is:\",dis\n",
    "\n",
    "    "
   ]
  },
  {
   "cell_type": "markdown",
   "metadata": {},
   "source": [
    "**<SPAN style=\"BACKGROUND-COLOR: #C0C0C0\">End of Problem 4</SPAN>**"
   ]
  },
  {
   "cell_type": "markdown",
   "metadata": {},
   "source": [
    "## Lab Questions:"
   ]
  },
  {
   "cell_type": "markdown",
   "metadata": {},
   "source": [
    "Make sure to complete all lab questions 1-4 for this weeks lab."
   ]
  },
  {
   "cell_type": "markdown",
   "metadata": {},
   "source": [
    "<div class=\"alert alert-block alert-warning\"> \n",
    "## Academic Integrity Statement ##\n",
    "\n",
    "By submitting the lab with this statement, you declare you have written up the lab entirely by yourself, including both code and markdown cells. You also agree that you should not share your code with anyone else. Any violation of the academic integrity requirement may cause an academic integrity report to be filed that could go into your student record. See <a href=\"https://provost.illinois.edu/policies/policies/academic-integrity/students-quick-reference-guide-to-academic-integrity/\">Students' Quick Reference Guide to Academic Integrity</a> for more information. "
   ]
  }
 ],
 "metadata": {
  "anaconda-cloud": {},
  "kernelspec": {
   "display_name": "Python 2",
   "language": "python",
   "name": "python2"
  },
  "language_info": {
   "codemirror_mode": {
    "name": "ipython",
    "version": 2
   },
   "file_extension": ".py",
   "mimetype": "text/x-python",
   "name": "python",
   "nbconvert_exporter": "python",
   "pygments_lexer": "ipython2",
   "version": "2.7.15"
  }
 },
 "nbformat": 4,
 "nbformat_minor": 1
}
